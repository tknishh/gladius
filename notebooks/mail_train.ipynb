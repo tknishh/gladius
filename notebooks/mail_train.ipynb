{
 "cells": [
  {
   "cell_type": "code",
   "execution_count": null,
   "metadata": {},
   "outputs": [],
   "source": [
    "import openai\n",
    "# Set up OpenAI API credentials\n",
    "openai.api_key = \"YOUR_API_KEY\"\n",
    "\n",
    "def prompt_question(question, options):\n",
    "    print(question)\n",
    "    print(\"Options:\", \", \".join(options))\n",
    "    answer = input(\"Enter your answer: \")\n",
    "    while answer not in options:\n",
    "        print(\"Invalid answer. Please try again.\")\n",
    "        answer = input(\"Enter your answer: \")\n",
    "    return answer\n",
    "\n",
    "def generate_answer(question):\n",
    "    response = openai.Completion.create(\n",
    "        engine=\"text-davinci-003\",\n",
    "        prompt=question,\n",
    "        max_tokens=100,\n",
    "        n=1,\n",
    "        stop=None,\n",
    "        temperature=0.7\n",
    "    )\n",
    "    return response.choices[0].text.strip()\n",
    "\n",
    "def main():\n",
    "    questions = [\n",
    "        (\"What is the capital of France?\", [\"Paris\", \"London\", \"Berlin\"]),\n",
    "        (\"Which planet is known as the Red Planet?\", [\"Mars\", \"Venus\", \"Jupiter\"]),\n",
    "        (\"What is the largest ocean in the world?\", [\"Pacific\", \"Atlantic\", \"Indian\"]),\n",
    "        (\"Who painted the Mona Lisa?\", [\"Leonardo da Vinci\", \"Pablo Picasso\", \"Vincent van Gogh\"]),\n",
    "        (\"What is the tallest mountain in the world?\", [\"Mount Everest\", \"K2\", \"Kangchenjunga\"])\n",
    "    ]\n",
    "\n",
    "    for question, options in questions:\n",
    "        if options:\n",
    "            answer = prompt_question(question, options)\n",
    "        else:\n",
    "            answer = generate_answer(question)\n",
    "        if answer != options[0]:\n",
    "            print(\"Incorrect answer. Exiting...\")\n",
    "            break\n",
    "\n",
    "if __name__ == \"__main__\":\n",
    "    main()\n"
   ]
  }
 ],
 "metadata": {
  "kernelspec": {
   "display_name": "env",
   "language": "python",
   "name": "python3"
  },
  "language_info": {
   "codemirror_mode": {
    "name": "ipython",
    "version": 3
   },
   "file_extension": ".py",
   "mimetype": "text/x-python",
   "name": "python",
   "nbconvert_exporter": "python",
   "pygments_lexer": "ipython3",
   "version": "3.9.13"
  }
 },
 "nbformat": 4,
 "nbformat_minor": 2
}
